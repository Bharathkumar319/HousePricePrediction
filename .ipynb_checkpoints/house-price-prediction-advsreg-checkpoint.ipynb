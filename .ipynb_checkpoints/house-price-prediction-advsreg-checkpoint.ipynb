{
 "cells": [
  {
   "cell_type": "markdown",
   "id": "5d0ef0f4",
   "metadata": {},
   "source": [
    "Steps in Data Science projects\n",
    "Data Analysis or Data processing\n",
    "Feature Engineering\n",
    "Feature Selection\n",
    "Model Building\n",
    "Model Deployment"
   ]
  },
  {
   "cell_type": "markdown",
   "id": "85cb439a",
   "metadata": {},
   "source": [
    "Data Analysis Phase"
   ]
  },
  {
   "cell_type": "code",
   "execution_count": 2,
   "id": "c3e9333e",
   "metadata": {},
   "outputs": [],
   "source": [
    "import pandas as pd\n",
    "import numpy as np\n",
    "import matplotlib.pyplot as plt\n",
    "%matplotlib inline\n",
    "import seaborn as sns\n",
    "import warnings\n",
    "warnings.filterwarnings('ignore')"
   ]
  },
  {
   "cell_type": "code",
   "execution_count": null,
   "id": "d17dcf76",
   "metadata": {},
   "outputs": [],
   "source": []
  }
 ],
 "metadata": {
  "kernelspec": {
   "display_name": "Python 3 (ipykernel)",
   "language": "python",
   "name": "python3"
  },
  "language_info": {
   "codemirror_mode": {
    "name": "ipython",
    "version": 3
   },
   "file_extension": ".py",
   "mimetype": "text/x-python",
   "name": "python",
   "nbconvert_exporter": "python",
   "pygments_lexer": "ipython3",
   "version": "3.9.7"
  }
 },
 "nbformat": 4,
 "nbformat_minor": 5
}
