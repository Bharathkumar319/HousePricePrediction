{
 "cells": [
  {
   "cell_type": "markdown",
   "id": "1e28b263",
   "metadata": {},
   "source": [
    "Steps in Data Science projects\n",
    "Data Analysis or Data processing\n",
    "Feature Engineering\n",
    "Feature Selection\n",
    "Model Building\n",
    "Model Deployment"
   ]
  },
  {
   "cell_type": "markdown",
   "id": "f0b2459c",
   "metadata": {},
   "source": [
    "Data Analysis Phase"
   ]
  },
  {
   "cell_type": "code",
   "execution_count": 2,
   "id": "e57d744f",
   "metadata": {},
   "outputs": [],
   "source": [
    "import pandas as pd\n",
    "import numpy as np\n",
    "import matplotlib.pyplot as plt\n",
    "%matplotlib inline\n",
    "import seaborn as sns\n",
    "import warnings\n",
    "warnings.filterwarnings('ignore')"
   ]
  },
  {
   "cell_type": "code",
   "execution_count": null,
   "id": "4d27d7ae",
   "metadata": {},
   "outputs": [],
   "source": [
    "dataset = pd.read_csv('train.csv')\n",
    "dataset.head(15)"
   ]
  },
  {
   "cell_type": "markdown",
   "id": "3415320d",
   "metadata": {},
   "source": [
    "Aim is understand about the data¶\n",
    "Splitting The Data Into Numerical & Categorical\n",
    "Exploratory Data Analysis\n",
    "IN Data Analysis What All Things We do\n",
    "\n",
    "Missing values\n",
    "All The numerical variables\n",
    "Explore about the char variables\n",
    "Finding the relationship about the features\n",
    "Relationship Between the independent and dependent feature(sales price)"
   ]
  }
 ],
 "metadata": {
  "kernelspec": {
   "display_name": "Python 3 (ipykernel)",
   "language": "python",
   "name": "python3"
  },
  "language_info": {
   "codemirror_mode": {
    "name": "ipython",
    "version": 3
   },
   "file_extension": ".py",
   "mimetype": "text/x-python",
   "name": "python",
   "nbconvert_exporter": "python",
   "pygments_lexer": "ipython3",
   "version": "3.9.7"
  }
 },
 "nbformat": 4,
 "nbformat_minor": 5
}
