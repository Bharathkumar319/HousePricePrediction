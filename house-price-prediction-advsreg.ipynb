{
 "cells": [
  {
   "cell_type": "markdown",
   "id": "6e7e499d",
   "metadata": {},
   "source": [
    "Steps in Data Science projects\n",
    "Data Analysis or Data processing\n",
    "Feature Engineering\n",
    "Feature Selection\n",
    "Model Building\n",
    "Model Deployment"
   ]
  },
  {
   "cell_type": "markdown",
   "id": "9ab82cb7",
   "metadata": {},
   "source": [
    "Data Analysis Phase"
   ]
  },
  {
   "cell_type": "code",
   "execution_count": 2,
   "id": "a5161a97",
   "metadata": {},
   "outputs": [],
   "source": [
    "import pandas as pd\n",
    "import numpy as np\n",
    "import matplotlib.pyplot as plt\n",
    "%matplotlib inline\n",
    "import seaborn as sns\n",
    "import warnings\n",
    "warnings.filterwarnings('ignore')"
   ]
  },
  {
   "cell_type": "code",
   "execution_count": null,
   "id": "6b66a637",
   "metadata": {},
   "outputs": [],
   "source": [
    "dataset = pd.read_csv('train.csv')\n",
    "dataset.head(15)"
   ]
  },
  {
   "cell_type": "code",
   "execution_count": null,
   "id": "6eb24fe9",
   "metadata": {},
   "outputs": [],
   "source": []
  }
 ],
 "metadata": {
  "kernelspec": {
   "display_name": "Python 3 (ipykernel)",
   "language": "python",
   "name": "python3"
  },
  "language_info": {
   "codemirror_mode": {
    "name": "ipython",
    "version": 3
   },
   "file_extension": ".py",
   "mimetype": "text/x-python",
   "name": "python",
   "nbconvert_exporter": "python",
   "pygments_lexer": "ipython3",
   "version": "3.9.7"
  }
 },
 "nbformat": 4,
 "nbformat_minor": 5
}
